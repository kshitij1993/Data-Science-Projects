{
 "cells": [
  {
   "cell_type": "markdown",
   "metadata": {},
   "source": [
    "## Assignment 9 : Introduction to Data Science\n",
    "\n",
    "### Topic : Come up with three questions whose answers require a chi-squared, t-test and, correlation/ regression."
   ]
  },
  {
   "cell_type": "code",
   "execution_count": 24,
   "metadata": {
    "collapsed": true
   },
   "outputs": [],
   "source": [
    "%matplotlib inline\n",
    "\n",
    "import os                            \n",
    "import numpy as np\n",
    "import csv\n",
    "import pandas as pd                           \n",
    "import seaborn as sns              \n",
    "import matplotlib.pyplot as plt   \n",
    "import scipy.stats as stats\n",
    "import statsmodels.formula.api as smf"
   ]
  },
  {
   "cell_type": "markdown",
   "metadata": {},
   "source": [
    "### Displaying Data for SAT Results of year 2010 (Observed set of values)"
   ]
  },
  {
   "cell_type": "code",
   "execution_count": 25,
   "metadata": {},
   "outputs": [
    {
     "data": {
      "text/html": [
       "<div>\n",
       "<style>\n",
       "    .dataframe thead tr:only-child th {\n",
       "        text-align: right;\n",
       "    }\n",
       "\n",
       "    .dataframe thead th {\n",
       "        text-align: left;\n",
       "    }\n",
       "\n",
       "    .dataframe tbody tr th {\n",
       "        vertical-align: top;\n",
       "    }\n",
       "</style>\n",
       "<table border=\"1\" class=\"dataframe\">\n",
       "  <thead>\n",
       "    <tr style=\"text-align: right;\">\n",
       "      <th></th>\n",
       "      <th>DBN</th>\n",
       "      <th>School Name</th>\n",
       "      <th>Number of Test Takers</th>\n",
       "      <th>Critical Reading Mean</th>\n",
       "      <th>Mathematics Mean</th>\n",
       "      <th>Writing Mean</th>\n",
       "    </tr>\n",
       "  </thead>\n",
       "  <tbody>\n",
       "    <tr>\n",
       "      <th>0</th>\n",
       "      <td>01M292</td>\n",
       "      <td>Henry Street School for International Studies</td>\n",
       "      <td>31</td>\n",
       "      <td>391</td>\n",
       "      <td>425</td>\n",
       "      <td>385</td>\n",
       "    </tr>\n",
       "    <tr>\n",
       "      <th>1</th>\n",
       "      <td>01M448</td>\n",
       "      <td>University Neighborhood High School</td>\n",
       "      <td>60</td>\n",
       "      <td>394</td>\n",
       "      <td>419</td>\n",
       "      <td>387</td>\n",
       "    </tr>\n",
       "    <tr>\n",
       "      <th>2</th>\n",
       "      <td>01M450</td>\n",
       "      <td>East Side Community High School</td>\n",
       "      <td>69</td>\n",
       "      <td>418</td>\n",
       "      <td>431</td>\n",
       "      <td>402</td>\n",
       "    </tr>\n",
       "    <tr>\n",
       "      <th>3</th>\n",
       "      <td>01M458</td>\n",
       "      <td>SATELLITE ACADEMY FORSYTH ST</td>\n",
       "      <td>26</td>\n",
       "      <td>385</td>\n",
       "      <td>370</td>\n",
       "      <td>378</td>\n",
       "    </tr>\n",
       "    <tr>\n",
       "      <th>4</th>\n",
       "      <td>01M509</td>\n",
       "      <td>CMSP HIGH SCHOOL</td>\n",
       "      <td>s</td>\n",
       "      <td>s</td>\n",
       "      <td>s</td>\n",
       "      <td>s</td>\n",
       "    </tr>\n",
       "  </tbody>\n",
       "</table>\n",
       "</div>"
      ],
      "text/plain": [
       "      DBN                                     School Name  \\\n",
       "0  01M292  Henry Street School for International Studies    \n",
       "1  01M448            University Neighborhood High School    \n",
       "2  01M450                East Side Community High School    \n",
       "3  01M458                   SATELLITE ACADEMY FORSYTH ST    \n",
       "4  01M509                               CMSP HIGH SCHOOL    \n",
       "\n",
       "  Number of Test Takers Critical Reading Mean Mathematics Mean Writing Mean  \n",
       "0                    31                   391              425          385  \n",
       "1                    60                   394              419          387  \n",
       "2                    69                   418              431          402  \n",
       "3                    26                   385              370          378  \n",
       "4                     s                     s                s            s  "
      ]
     },
     "execution_count": 25,
     "metadata": {},
     "output_type": "execute_result"
    }
   ],
   "source": [
    "    fp = \"C:/Users/kshit/Desktop/IDS assignment 2 review/SAT_Results_2010.csv\" \n",
    "    data_2010 = pd.read_csv(fp)\n",
    "    data_2010.head()"
   ]
  },
  {
   "cell_type": "code",
   "execution_count": 26,
   "metadata": {
    "collapsed": true
   },
   "outputs": [],
   "source": [
    "column_names = {'DBN': 'DB_Number_2010', 'School Name': 'SCHOOL_2010', 'Number of Test Takers': 'Applicants_2010',\n",
    "                'Critical Reading Mean': 'Avg_CR_Score_2010', 'Mathematics Mean': 'Avg_Math_Score_2010', \n",
    "                'Writing Mean': 'Avg_Writing_Score_2010'} \n",
    "\n",
    "data_2010 = (data_2010.rename(columns=column_names)\n",
    "    .dropna(thresh=4)\n",
    "    [['DB_Number_2010','SCHOOL_2010','Applicants_2010','Avg_CR_Score_2010','Avg_Math_Score_2010','Avg_Writing_Score_2010']]\n",
    "    .set_index('DB_Number_2010', append=True) \n",
    "    .rename_axis([\"Serial Number\", \"DB_Number_2010\"])  \n",
    "    .sort_index())\n",
    "\n"
   ]
  },
  {
   "cell_type": "code",
   "execution_count": 84,
   "metadata": {},
   "outputs": [],
   "source": [
    "data_2010.replace('s',np.NaN) \n",
    "data_2010[\"Applicants_2010\"]=pd.to_numeric(data_2010[\"Applicants_2010\"], errors=\"coerce\") \n",
    "data_2010[\"Avg_CR_Score_2010\"]=pd.to_numeric(data_2010[\"Avg_CR_Score_2010\"], errors=\"coerce\") \n",
    "data_2010[\"Avg_Math_Score_2010\"]=pd.to_numeric(data_2010[\"Avg_Math_Score_2010\"], errors=\"coerce\") \n",
    "data_2010[\"Avg_Writing_Score_2010\"]=pd.to_numeric(data_2010[\"Avg_Writing_Score_2010\"], errors=\"coerce\") "
   ]
  },
  {
   "cell_type": "code",
   "execution_count": 85,
   "metadata": {},
   "outputs": [
    {
     "data": {
      "text/html": [
       "<div>\n",
       "<style>\n",
       "    .dataframe thead tr:only-child th {\n",
       "        text-align: right;\n",
       "    }\n",
       "\n",
       "    .dataframe thead th {\n",
       "        text-align: left;\n",
       "    }\n",
       "\n",
       "    .dataframe tbody tr th {\n",
       "        vertical-align: top;\n",
       "    }\n",
       "</style>\n",
       "<table border=\"1\" class=\"dataframe\">\n",
       "  <thead>\n",
       "    <tr style=\"text-align: right;\">\n",
       "      <th></th>\n",
       "      <th></th>\n",
       "      <th>SCHOOL_2010</th>\n",
       "      <th>Applicants_2010</th>\n",
       "      <th>Avg_CR_Score_2010</th>\n",
       "      <th>Avg_Math_Score_2010</th>\n",
       "      <th>Avg_Writing_Score_2010</th>\n",
       "    </tr>\n",
       "    <tr>\n",
       "      <th>Serial Number</th>\n",
       "      <th>DB_Number_2010</th>\n",
       "      <th></th>\n",
       "      <th></th>\n",
       "      <th></th>\n",
       "      <th></th>\n",
       "      <th></th>\n",
       "    </tr>\n",
       "  </thead>\n",
       "  <tbody>\n",
       "    <tr>\n",
       "      <th>0</th>\n",
       "      <th>01M292</th>\n",
       "      <td>Henry Street School for International Studies</td>\n",
       "      <td>31.0</td>\n",
       "      <td>391.0</td>\n",
       "      <td>425.0</td>\n",
       "      <td>385.0</td>\n",
       "    </tr>\n",
       "    <tr>\n",
       "      <th>1</th>\n",
       "      <th>01M448</th>\n",
       "      <td>University Neighborhood High School</td>\n",
       "      <td>60.0</td>\n",
       "      <td>394.0</td>\n",
       "      <td>419.0</td>\n",
       "      <td>387.0</td>\n",
       "    </tr>\n",
       "    <tr>\n",
       "      <th>2</th>\n",
       "      <th>01M450</th>\n",
       "      <td>East Side Community High School</td>\n",
       "      <td>69.0</td>\n",
       "      <td>418.0</td>\n",
       "      <td>431.0</td>\n",
       "      <td>402.0</td>\n",
       "    </tr>\n",
       "    <tr>\n",
       "      <th>3</th>\n",
       "      <th>01M458</th>\n",
       "      <td>SATELLITE ACADEMY FORSYTH ST</td>\n",
       "      <td>26.0</td>\n",
       "      <td>385.0</td>\n",
       "      <td>370.0</td>\n",
       "      <td>378.0</td>\n",
       "    </tr>\n",
       "    <tr>\n",
       "      <th>4</th>\n",
       "      <th>01M509</th>\n",
       "      <td>CMSP HIGH SCHOOL</td>\n",
       "      <td>103.0</td>\n",
       "      <td>404.0</td>\n",
       "      <td>412.0</td>\n",
       "      <td>397.0</td>\n",
       "    </tr>\n",
       "  </tbody>\n",
       "</table>\n",
       "</div>"
      ],
      "text/plain": [
       "                                                                 SCHOOL_2010  \\\n",
       "Serial Number DB_Number_2010                                                   \n",
       "0             01M292          Henry Street School for International Studies    \n",
       "1             01M448                    University Neighborhood High School    \n",
       "2             01M450                        East Side Community High School    \n",
       "3             01M458                           SATELLITE ACADEMY FORSYTH ST    \n",
       "4             01M509                                       CMSP HIGH SCHOOL    \n",
       "\n",
       "                              Applicants_2010  Avg_CR_Score_2010  \\\n",
       "Serial Number DB_Number_2010                                       \n",
       "0             01M292                     31.0              391.0   \n",
       "1             01M448                     60.0              394.0   \n",
       "2             01M450                     69.0              418.0   \n",
       "3             01M458                     26.0              385.0   \n",
       "4             01M509                    103.0              404.0   \n",
       "\n",
       "                              Avg_Math_Score_2010  Avg_Writing_Score_2010  \n",
       "Serial Number DB_Number_2010                                               \n",
       "0             01M292                        425.0                   385.0  \n",
       "1             01M448                        419.0                   387.0  \n",
       "2             01M450                        431.0                   402.0  \n",
       "3             01M458                        370.0                   378.0  \n",
       "4             01M509                        412.0                   397.0  "
      ]
     },
     "execution_count": 85,
     "metadata": {},
     "output_type": "execute_result"
    }
   ],
   "source": [
    "data_2010[\"Applicants_2010\"].fillna(int(data_2010[\"Applicants_2010\"].mean()), inplace=True) \n",
    "data_2010[\"Avg_CR_Score_2010\"].fillna(int(data_2010[\"Avg_CR_Score_2010\"].mean()), inplace=True)\n",
    "data_2010[\"Avg_Math_Score_2010\"].fillna(int(data_2010[\"Avg_Math_Score_2010\"].mean()), inplace=True)\n",
    "data_2010[\"Avg_Writing_Score_2010\"].fillna(int(data_2010[\"Avg_Writing_Score_2010\"].mean()), inplace=True)\n",
    "\n",
    "data_2010.head()"
   ]
  },
  {
   "cell_type": "markdown",
   "metadata": {},
   "source": [
    "### Displaying Data for SAT Results of year 2012 (Expected Data set)"
   ]
  },
  {
   "cell_type": "code",
   "execution_count": 81,
   "metadata": {},
   "outputs": [
    {
     "data": {
      "text/html": [
       "<div>\n",
       "<style>\n",
       "    .dataframe thead tr:only-child th {\n",
       "        text-align: right;\n",
       "    }\n",
       "\n",
       "    .dataframe thead th {\n",
       "        text-align: left;\n",
       "    }\n",
       "\n",
       "    .dataframe tbody tr th {\n",
       "        vertical-align: top;\n",
       "    }\n",
       "</style>\n",
       "<table border=\"1\" class=\"dataframe\">\n",
       "  <thead>\n",
       "    <tr style=\"text-align: right;\">\n",
       "      <th></th>\n",
       "      <th>DBN</th>\n",
       "      <th>SCHOOL NAME</th>\n",
       "      <th>Num of SAT Test Takers</th>\n",
       "      <th>SAT Critical Reading Avg. Score</th>\n",
       "      <th>SAT Math Avg. Score</th>\n",
       "      <th>SAT Writing Avg. Score</th>\n",
       "    </tr>\n",
       "  </thead>\n",
       "  <tbody>\n",
       "    <tr>\n",
       "      <th>0</th>\n",
       "      <td>01M292</td>\n",
       "      <td>HENRY STREET SCHOOL FOR INTERNATIONAL STUDIES</td>\n",
       "      <td>29</td>\n",
       "      <td>355</td>\n",
       "      <td>404</td>\n",
       "      <td>363</td>\n",
       "    </tr>\n",
       "    <tr>\n",
       "      <th>1</th>\n",
       "      <td>01M448</td>\n",
       "      <td>UNIVERSITY NEIGHBORHOOD HIGH SCHOOL</td>\n",
       "      <td>91</td>\n",
       "      <td>383</td>\n",
       "      <td>423</td>\n",
       "      <td>366</td>\n",
       "    </tr>\n",
       "    <tr>\n",
       "      <th>2</th>\n",
       "      <td>01M450</td>\n",
       "      <td>EAST SIDE COMMUNITY SCHOOL</td>\n",
       "      <td>70</td>\n",
       "      <td>377</td>\n",
       "      <td>402</td>\n",
       "      <td>370</td>\n",
       "    </tr>\n",
       "    <tr>\n",
       "      <th>3</th>\n",
       "      <td>01M458</td>\n",
       "      <td>FORSYTH SATELLITE ACADEMY</td>\n",
       "      <td>7</td>\n",
       "      <td>414</td>\n",
       "      <td>401</td>\n",
       "      <td>359</td>\n",
       "    </tr>\n",
       "    <tr>\n",
       "      <th>4</th>\n",
       "      <td>01M509</td>\n",
       "      <td>MARTA VALLE HIGH SCHOOL</td>\n",
       "      <td>44</td>\n",
       "      <td>390</td>\n",
       "      <td>433</td>\n",
       "      <td>384</td>\n",
       "    </tr>\n",
       "  </tbody>\n",
       "</table>\n",
       "</div>"
      ],
      "text/plain": [
       "      DBN                                    SCHOOL NAME  \\\n",
       "0  01M292  HENRY STREET SCHOOL FOR INTERNATIONAL STUDIES   \n",
       "1  01M448            UNIVERSITY NEIGHBORHOOD HIGH SCHOOL   \n",
       "2  01M450                     EAST SIDE COMMUNITY SCHOOL   \n",
       "3  01M458                      FORSYTH SATELLITE ACADEMY   \n",
       "4  01M509                        MARTA VALLE HIGH SCHOOL   \n",
       "\n",
       "  Num of SAT Test Takers SAT Critical Reading Avg. Score SAT Math Avg. Score  \\\n",
       "0                     29                             355                 404   \n",
       "1                     91                             383                 423   \n",
       "2                     70                             377                 402   \n",
       "3                      7                             414                 401   \n",
       "4                     44                             390                 433   \n",
       "\n",
       "  SAT Writing Avg. Score  \n",
       "0                    363  \n",
       "1                    366  \n",
       "2                    370  \n",
       "3                    359  \n",
       "4                    384  "
      ]
     },
     "execution_count": 81,
     "metadata": {},
     "output_type": "execute_result"
    }
   ],
   "source": [
    "fp=\"C:/Users/kshit/Desktop/IDS assignment 2 review/SAT_Results_2012.csv\"\n",
    "data_2012=pd.read_csv(fp)\n",
    "data_2012.head() "
   ]
  },
  {
   "cell_type": "code",
   "execution_count": 82,
   "metadata": {},
   "outputs": [
    {
     "data": {
      "text/html": [
       "<div>\n",
       "<style>\n",
       "    .dataframe thead tr:only-child th {\n",
       "        text-align: right;\n",
       "    }\n",
       "\n",
       "    .dataframe thead th {\n",
       "        text-align: left;\n",
       "    }\n",
       "\n",
       "    .dataframe tbody tr th {\n",
       "        vertical-align: top;\n",
       "    }\n",
       "</style>\n",
       "<table border=\"1\" class=\"dataframe\">\n",
       "  <thead>\n",
       "    <tr style=\"text-align: right;\">\n",
       "      <th></th>\n",
       "      <th></th>\n",
       "      <th>SCHOOL_2012</th>\n",
       "      <th>Applicants_2012</th>\n",
       "      <th>Avg_CR_Score_2012</th>\n",
       "      <th>Avg_Math_Score_2012</th>\n",
       "      <th>Avg_Writing_Score_2012</th>\n",
       "    </tr>\n",
       "    <tr>\n",
       "      <th>SNo</th>\n",
       "      <th>Database_Number</th>\n",
       "      <th></th>\n",
       "      <th></th>\n",
       "      <th></th>\n",
       "      <th></th>\n",
       "      <th></th>\n",
       "    </tr>\n",
       "  </thead>\n",
       "  <tbody>\n",
       "    <tr>\n",
       "      <th>0</th>\n",
       "      <th>01M292</th>\n",
       "      <td>HENRY STREET SCHOOL FOR INTERNATIONAL STUDIES</td>\n",
       "      <td>29</td>\n",
       "      <td>355</td>\n",
       "      <td>404</td>\n",
       "      <td>363</td>\n",
       "    </tr>\n",
       "    <tr>\n",
       "      <th>1</th>\n",
       "      <th>01M448</th>\n",
       "      <td>UNIVERSITY NEIGHBORHOOD HIGH SCHOOL</td>\n",
       "      <td>91</td>\n",
       "      <td>383</td>\n",
       "      <td>423</td>\n",
       "      <td>366</td>\n",
       "    </tr>\n",
       "    <tr>\n",
       "      <th>2</th>\n",
       "      <th>01M450</th>\n",
       "      <td>EAST SIDE COMMUNITY SCHOOL</td>\n",
       "      <td>70</td>\n",
       "      <td>377</td>\n",
       "      <td>402</td>\n",
       "      <td>370</td>\n",
       "    </tr>\n",
       "    <tr>\n",
       "      <th>3</th>\n",
       "      <th>01M458</th>\n",
       "      <td>FORSYTH SATELLITE ACADEMY</td>\n",
       "      <td>7</td>\n",
       "      <td>414</td>\n",
       "      <td>401</td>\n",
       "      <td>359</td>\n",
       "    </tr>\n",
       "    <tr>\n",
       "      <th>4</th>\n",
       "      <th>01M509</th>\n",
       "      <td>MARTA VALLE HIGH SCHOOL</td>\n",
       "      <td>44</td>\n",
       "      <td>390</td>\n",
       "      <td>433</td>\n",
       "      <td>384</td>\n",
       "    </tr>\n",
       "  </tbody>\n",
       "</table>\n",
       "</div>"
      ],
      "text/plain": [
       "                                                       SCHOOL_2012  \\\n",
       "SNo Database_Number                                                  \n",
       "0   01M292           HENRY STREET SCHOOL FOR INTERNATIONAL STUDIES   \n",
       "1   01M448                     UNIVERSITY NEIGHBORHOOD HIGH SCHOOL   \n",
       "2   01M450                              EAST SIDE COMMUNITY SCHOOL   \n",
       "3   01M458                               FORSYTH SATELLITE ACADEMY   \n",
       "4   01M509                                 MARTA VALLE HIGH SCHOOL   \n",
       "\n",
       "                    Applicants_2012 Avg_CR_Score_2012 Avg_Math_Score_2012  \\\n",
       "SNo Database_Number                                                         \n",
       "0   01M292                       29               355                 404   \n",
       "1   01M448                       91               383                 423   \n",
       "2   01M450                       70               377                 402   \n",
       "3   01M458                        7               414                 401   \n",
       "4   01M509                       44               390                 433   \n",
       "\n",
       "                    Avg_Writing_Score_2012  \n",
       "SNo Database_Number                         \n",
       "0   01M292                             363  \n",
       "1   01M448                             366  \n",
       "2   01M450                             370  \n",
       "3   01M458                             359  \n",
       "4   01M509                             384  "
      ]
     },
     "execution_count": 82,
     "metadata": {},
     "output_type": "execute_result"
    }
   ],
   "source": [
    "column_names = {'DBN': 'Database_Number', 'SCHOOL NAME': 'SCHOOL_2012',\n",
    "                'Num of SAT Test Takers': 'Applicants_2012', 'SAT Critical Reading Avg. Score': 'Avg_CR_Score_2012', \n",
    "                'SAT Math Avg. Score': 'Avg_Math_Score_2012', 'SAT Writing Avg. Score': 'Avg_Writing_Score_2012'} #created a dictionary for column name changes\n",
    "\n",
    "data_2012=(data_2012.rename(columns=column_names) \n",
    ".dropna(thresh=4) \n",
    "[['Database_Number','SCHOOL_2012','Applicants_2012','Avg_CR_Score_2012','Avg_Math_Score_2012','Avg_Writing_Score_2012']]\n",
    ".set_index('Database_Number', append=True)\n",
    ".rename_axis([\"SNo\", \"Database_Number\"])\n",
    ".sort_index())\n",
    "\n",
    "data_2012.head()           \n",
    "\n",
    "            \n",
    "\n"
   ]
  },
  {
   "cell_type": "code",
   "execution_count": 79,
   "metadata": {
    "collapsed": true
   },
   "outputs": [],
   "source": [
    "data_2012.replace('s',np.NaN) \n",
    "data_2012[\"Applicants_2012\"]=pd.to_numeric(data_2012[\"Applicants_2012\"], errors=\"coerce\") \n",
    "data_2012[\"Avg_CR_Score_2012\"]=pd.to_numeric(data_2012[\"Avg_CR_Score_2012\"], errors=\"coerce\") \n",
    "data_2012[\"Avg_Math_Score_2012\"]=pd.to_numeric(data_2012[\"Avg_Math_Score_2012\"], errors=\"coerce\") \n",
    "data_2012[\"Avg_Writing_Score_2012\"]=pd.to_numeric(data_2012[\"Avg_Writing_Score_2012\"], errors=\"coerce\") "
   ]
  },
  {
   "cell_type": "code",
   "execution_count": 78,
   "metadata": {},
   "outputs": [
    {
     "data": {
      "text/html": [
       "<div>\n",
       "<style>\n",
       "    .dataframe thead tr:only-child th {\n",
       "        text-align: right;\n",
       "    }\n",
       "\n",
       "    .dataframe thead th {\n",
       "        text-align: left;\n",
       "    }\n",
       "\n",
       "    .dataframe tbody tr th {\n",
       "        vertical-align: top;\n",
       "    }\n",
       "</style>\n",
       "<table border=\"1\" class=\"dataframe\">\n",
       "  <thead>\n",
       "    <tr style=\"text-align: right;\">\n",
       "      <th></th>\n",
       "      <th></th>\n",
       "      <th>SCHOOL_2012</th>\n",
       "      <th>Applicants_2012</th>\n",
       "      <th>Avg_CR_Score_2012</th>\n",
       "      <th>Avg_Math_Score_2012</th>\n",
       "      <th>Avg_Writing_Score_2012</th>\n",
       "    </tr>\n",
       "    <tr>\n",
       "      <th>SNo</th>\n",
       "      <th>Database_Number</th>\n",
       "      <th></th>\n",
       "      <th></th>\n",
       "      <th></th>\n",
       "      <th></th>\n",
       "      <th></th>\n",
       "    </tr>\n",
       "  </thead>\n",
       "  <tbody>\n",
       "    <tr>\n",
       "      <th>0</th>\n",
       "      <th>01M292</th>\n",
       "      <td>HENRY STREET SCHOOL FOR INTERNATIONAL STUDIES</td>\n",
       "      <td>29.0</td>\n",
       "      <td>355.0</td>\n",
       "      <td>404.0</td>\n",
       "      <td>363.0</td>\n",
       "    </tr>\n",
       "    <tr>\n",
       "      <th>1</th>\n",
       "      <th>01M448</th>\n",
       "      <td>UNIVERSITY NEIGHBORHOOD HIGH SCHOOL</td>\n",
       "      <td>91.0</td>\n",
       "      <td>383.0</td>\n",
       "      <td>423.0</td>\n",
       "      <td>366.0</td>\n",
       "    </tr>\n",
       "    <tr>\n",
       "      <th>2</th>\n",
       "      <th>01M450</th>\n",
       "      <td>EAST SIDE COMMUNITY SCHOOL</td>\n",
       "      <td>70.0</td>\n",
       "      <td>377.0</td>\n",
       "      <td>402.0</td>\n",
       "      <td>370.0</td>\n",
       "    </tr>\n",
       "    <tr>\n",
       "      <th>3</th>\n",
       "      <th>01M458</th>\n",
       "      <td>FORSYTH SATELLITE ACADEMY</td>\n",
       "      <td>7.0</td>\n",
       "      <td>414.0</td>\n",
       "      <td>401.0</td>\n",
       "      <td>359.0</td>\n",
       "    </tr>\n",
       "    <tr>\n",
       "      <th>4</th>\n",
       "      <th>01M509</th>\n",
       "      <td>MARTA VALLE HIGH SCHOOL</td>\n",
       "      <td>44.0</td>\n",
       "      <td>390.0</td>\n",
       "      <td>433.0</td>\n",
       "      <td>384.0</td>\n",
       "    </tr>\n",
       "  </tbody>\n",
       "</table>\n",
       "</div>"
      ],
      "text/plain": [
       "                                                       SCHOOL_2012  \\\n",
       "SNo Database_Number                                                  \n",
       "0   01M292           HENRY STREET SCHOOL FOR INTERNATIONAL STUDIES   \n",
       "1   01M448                     UNIVERSITY NEIGHBORHOOD HIGH SCHOOL   \n",
       "2   01M450                              EAST SIDE COMMUNITY SCHOOL   \n",
       "3   01M458                               FORSYTH SATELLITE ACADEMY   \n",
       "4   01M509                                 MARTA VALLE HIGH SCHOOL   \n",
       "\n",
       "                     Applicants_2012  Avg_CR_Score_2012  Avg_Math_Score_2012  \\\n",
       "SNo Database_Number                                                            \n",
       "0   01M292                      29.0              355.0                404.0   \n",
       "1   01M448                      91.0              383.0                423.0   \n",
       "2   01M450                      70.0              377.0                402.0   \n",
       "3   01M458                       7.0              414.0                401.0   \n",
       "4   01M509                      44.0              390.0                433.0   \n",
       "\n",
       "                     Avg_Writing_Score_2012  \n",
       "SNo Database_Number                          \n",
       "0   01M292                            363.0  \n",
       "1   01M448                            366.0  \n",
       "2   01M450                            370.0  \n",
       "3   01M458                            359.0  \n",
       "4   01M509                            384.0  "
      ]
     },
     "execution_count": 78,
     "metadata": {},
     "output_type": "execute_result"
    }
   ],
   "source": [
    "data_2012[\"Applicants_2012\"].fillna(int(data_2012[\"Applicants_2012\"].mean()), inplace=True) \n",
    "data_2012[\"Avg_CR_Score_2012\"].fillna(int(data_2012[\"Avg_CR_Score_2012\"].mean()), inplace=True)\n",
    "data_2012[\"Avg_Math_Score_2012\"].fillna(int(data_2012[\"Avg_Math_Score_2012\"].mean()), inplace=True)\n",
    "data_2012[\"Avg_Writing_Score_2012\"].fillna(int(data_2012[\"Avg_Writing_Score_2012\"].mean()), inplace=True)\n",
    "\n",
    "data_2012.head()"
   ]
  },
  {
   "cell_type": "markdown",
   "metadata": {},
   "source": [
    "## Question 1: What will be the measure of Average Critical Reasoning Marks scored in the year 2012 as compared to year 2010?"
   ]
  },
  {
   "cell_type": "markdown",
   "metadata": {},
   "source": [
    "### Calculate Chi-Squared values for the marks scored in Average Critical Reasoning"
   ]
  },
  {
   "cell_type": "code",
   "execution_count": 33,
   "metadata": {},
   "outputs": [
    {
     "name": "stdout",
     "output_type": "stream",
     "text": [
      "0.029868605656417\n"
     ]
    }
   ],
   "source": [
    "observed = data_2010['Avg_CR_Score_2010'].mean()\n",
    "expected = data_2012['Avg_CR_Score_2012'].mean()\n",
    "chi_squared = (((observed-expected)**2)/expected)\n",
    "\n",
    "print(chi_squared)"
   ]
  },
  {
   "cell_type": "markdown",
   "metadata": {},
   "source": [
    "- From the above code,since Chi-squared value is closer to zero, we can predict that there would not be any significant difference between the Average CR marks for years 2010 and 2012."
   ]
  },
  {
   "cell_type": "code",
   "execution_count": 34,
   "metadata": {},
   "outputs": [
    {
     "data": {
      "text/plain": [
       "Power_divergenceResult(statistic=0.029868605656417, pvalue=nan)"
      ]
     },
     "execution_count": 34,
     "metadata": {},
     "output_type": "execute_result"
    }
   ],
   "source": [
    "import scipy\n",
    "from scipy.stats import chisquare\n",
    "chisquare(data_2010['Avg_CR_Score_2010'].mean(),f_exp=data_2012['Avg_CR_Score_2012'].mean())"
   ]
  },
  {
   "cell_type": "markdown",
   "metadata": {},
   "source": [
    "### Linear Regression for marks scored in Average Critical Reasoning"
   ]
  },
  {
   "cell_type": "code",
   "execution_count": 62,
   "metadata": {},
   "outputs": [
    {
     "data": {
      "text/plain": [
       "Intercept           -350.904942\n",
       "Avg_CR_Score_2010      1.124313\n",
       "dtype: float64"
      ]
     },
     "execution_count": 62,
     "metadata": {},
     "output_type": "execute_result"
    }
   ],
   "source": [
    "lm=smf.ols(formula='Applicants_2010~Avg_CR_Score_2010',data=data_2010).fit()\n",
    "lm.params"
   ]
  },
  {
   "cell_type": "code",
   "execution_count": 63,
   "metadata": {},
   "outputs": [
    {
     "data": {
      "text/plain": [
       "Serial Number  DB_Number_2010\n",
       "0              01M292             88.701465\n",
       "1              01M448             92.074404\n",
       "2              01M450            119.057918\n",
       "3              01M458             81.955586\n",
       "4              01M509            103.317535\n",
       "dtype: float64"
      ]
     },
     "execution_count": 63,
     "metadata": {},
     "output_type": "execute_result"
    }
   ],
   "source": [
    "lm.predict(data_2010.Avg_CR_Score_2010).head() #predicting Avg CR marks for various schools"
   ]
  },
  {
   "cell_type": "code",
   "execution_count": 64,
   "metadata": {},
   "outputs": [
    {
     "data": {
      "text/plain": [
       "Intercept            8.625054e-15\n",
       "Avg_CR_Score_2010    3.568955e-23\n",
       "dtype: float64"
      ]
     },
     "execution_count": 64,
     "metadata": {},
     "output_type": "execute_result"
    }
   ],
   "source": [
    "lm.pvalues #We predict the model co-efficients "
   ]
  },
  {
   "cell_type": "code",
   "execution_count": 65,
   "metadata": {},
   "outputs": [
    {
     "data": {
      "text/plain": [
       "0.1933709020227159"
      ]
     },
     "execution_count": 65,
     "metadata": {},
     "output_type": "execute_result"
    }
   ],
   "source": [
    "lm.rsquared # Calculating R-squared values for Avg CR scores"
   ]
  },
  {
   "cell_type": "markdown",
   "metadata": {},
   "source": [
    "## T-statistics for Average Critical Reasoning"
   ]
  },
  {
   "cell_type": "code",
   "execution_count": 66,
   "metadata": {},
   "outputs": [
    {
     "data": {
      "text/plain": [
       "Ttest_relResult(statistic=1.1785696654867619, pvalue=0.30389138776396163)"
      ]
     },
     "execution_count": 66,
     "metadata": {},
     "output_type": "execute_result"
    }
   ],
   "source": [
    "stats.ttest_rel(data_2010[\"Avg_CR_Score_2010\"].head(),data_2012[\"Avg_CR_Score_2012\"].head())"
   ]
  },
  {
   "cell_type": "markdown",
   "metadata": {},
   "source": [
    "- From the above code we conclude that since the p-value is lesser than t-statistics value,we can say tha the null hypothesis is rejected in this case"
   ]
  },
  {
   "cell_type": "markdown",
   "metadata": {},
   "source": [
    "## Question 2: What will be the measure of Average Math Marks scored in the year 2012 as compared to year 2010?"
   ]
  },
  {
   "cell_type": "markdown",
   "metadata": {},
   "source": [
    "### Chi-Squared value for Average Math marks"
   ]
  },
  {
   "cell_type": "code",
   "execution_count": 35,
   "metadata": {},
   "outputs": [
    {
     "name": "stdout",
     "output_type": "stream",
     "text": [
      "0.0007041547650642788\n"
     ]
    }
   ],
   "source": [
    "observed = data_2010['Avg_Math_Score_2010'].mean()\n",
    "expected = data_2012['Avg_Math_Score_2012'].mean()\n",
    "chi_squared = (((observed-expected)**2)/expected)\n",
    "\n",
    "print(chi_squared)\n",
    "\n"
   ]
  },
  {
   "cell_type": "code",
   "execution_count": 36,
   "metadata": {},
   "outputs": [
    {
     "data": {
      "text/plain": [
       "Power_divergenceResult(statistic=0.00070415476506427877, pvalue=nan)"
      ]
     },
     "execution_count": 36,
     "metadata": {},
     "output_type": "execute_result"
    }
   ],
   "source": [
    "chisquare(data_2010['Avg_Math_Score_2010'].mean(),f_exp=data_2012['Avg_Math_Score_2012'].mean())"
   ]
  },
  {
   "cell_type": "markdown",
   "metadata": {},
   "source": [
    "### Linear Regression for Average Math Marks"
   ]
  },
  {
   "cell_type": "code",
   "execution_count": 68,
   "metadata": {},
   "outputs": [
    {
     "data": {
      "text/plain": [
       "Intercept             -401.375805\n",
       "Avg_Math_Score_2010      1.223223\n",
       "dtype: float64"
      ]
     },
     "execution_count": 68,
     "metadata": {},
     "output_type": "execute_result"
    }
   ],
   "source": [
    "lm=smf.ols(formula='Applicants_2010~Avg_Math_Score_2010',data=data_2010).fit()\n",
    "lm.params"
   ]
  },
  {
   "cell_type": "code",
   "execution_count": 69,
   "metadata": {},
   "outputs": [
    {
     "data": {
      "text/plain": [
       "Serial Number  DB_Number_2010\n",
       "0              01M292            118.494113\n",
       "1              01M448            111.154773\n",
       "2              01M450            125.833453\n",
       "3              01M458             51.216829\n",
       "4              01M509            102.592210\n",
       "dtype: float64"
      ]
     },
     "execution_count": 69,
     "metadata": {},
     "output_type": "execute_result"
    }
   ],
   "source": [
    "lm.predict(data_2010.Avg_Math_Score_2010).head()"
   ]
  },
  {
   "cell_type": "code",
   "execution_count": 70,
   "metadata": {},
   "outputs": [
    {
     "data": {
      "text/plain": [
       "Intercept              3.574097e-25\n",
       "Avg_Math_Score_2010    2.678473e-37\n",
       "dtype: float64"
      ]
     },
     "execution_count": 70,
     "metadata": {},
     "output_type": "execute_result"
    }
   ],
   "source": [
    "lm.pvalues"
   ]
  },
  {
   "cell_type": "code",
   "execution_count": 71,
   "metadata": {},
   "outputs": [
    {
     "data": {
      "text/plain": [
       "0.29951028543413316"
      ]
     },
     "execution_count": 71,
     "metadata": {},
     "output_type": "execute_result"
    }
   ],
   "source": [
    "lm.rsquared"
   ]
  },
  {
   "cell_type": "markdown",
   "metadata": {},
   "source": [
    "### T-Statistics for Average Math marks"
   ]
  },
  {
   "cell_type": "code",
   "execution_count": 72,
   "metadata": {},
   "outputs": [
    {
     "data": {
      "text/plain": [
       "Ttest_relResult(statistic=-0.10341753799900384, pvalue=0.9226091861131176)"
      ]
     },
     "execution_count": 72,
     "metadata": {},
     "output_type": "execute_result"
    }
   ],
   "source": [
    "stats.ttest_rel(data_2010[\"Avg_Math_Score_2010\"].head(),data_2012[\"Avg_Math_Score_2012\"].head())"
   ]
  },
  {
   "cell_type": "markdown",
   "metadata": {},
   "source": [
    "## Question 3: What will be the measure of Average Writing Marks scored in the year 2012 as compared to year 2010?"
   ]
  },
  {
   "cell_type": "markdown",
   "metadata": {},
   "source": [
    "### Chi-Square for Average Writing Marks"
   ]
  },
  {
   "cell_type": "code",
   "execution_count": 37,
   "metadata": {},
   "outputs": [
    {
     "name": "stdout",
     "output_type": "stream",
     "text": [
      "0.03494708488100381\n"
     ]
    }
   ],
   "source": [
    "observed = data_2010['Avg_Writing_Score_2010'].mean()\n",
    "expected = data_2012['Avg_Writing_Score_2012'].mean()\n",
    "chi_squared = (((observed-expected)**2)/expected)\n",
    "\n",
    "print(chi_squared)\n"
   ]
  },
  {
   "cell_type": "code",
   "execution_count": 38,
   "metadata": {},
   "outputs": [
    {
     "data": {
      "text/plain": [
       "Power_divergenceResult(statistic=0.034947084881003808, pvalue=nan)"
      ]
     },
     "execution_count": 38,
     "metadata": {},
     "output_type": "execute_result"
    }
   ],
   "source": [
    "chisquare(data_2010['Avg_Writing_Score_2010'].mean(),f_exp=data_2012['Avg_Writing_Score_2012'].mean())"
   ]
  },
  {
   "cell_type": "markdown",
   "metadata": {},
   "source": [
    "### Linear Regression for calculating Average Writing score"
   ]
  },
  {
   "cell_type": "code",
   "execution_count": 47,
   "metadata": {},
   "outputs": [
    {
     "data": {
      "text/plain": [
       "Intercept                -347.373416\n",
       "Avg_Writing_Score_2010      1.134181\n",
       "dtype: float64"
      ]
     },
     "execution_count": 47,
     "metadata": {},
     "output_type": "execute_result"
    }
   ],
   "source": [
    "lm=smf.ols(formula='Applicants_2010~Avg_Writing_Score_2010',data=data_2010).fit()\n",
    "lm.params"
   ]
  },
  {
   "cell_type": "code",
   "execution_count": 48,
   "metadata": {},
   "outputs": [
    {
     "data": {
      "text/plain": [
       "Serial Number  DB_Number_2010\n",
       "0              01M292             89.286153\n",
       "1              01M448             91.554515\n",
       "2              01M450            108.567225\n",
       "3              01M458             81.346888\n",
       "4              01M509            102.896322\n",
       "dtype: float64"
      ]
     },
     "execution_count": 48,
     "metadata": {},
     "output_type": "execute_result"
    }
   ],
   "source": [
    "lm.predict(data_2010.Avg_Writing_Score_2010).head()"
   ]
  },
  {
   "cell_type": "code",
   "execution_count": 49,
   "metadata": {},
   "outputs": [
    {
     "data": {
      "text/plain": [
       "Intercept                 1.601534e-15\n",
       "Avg_Writing_Score_2010    1.984800e-24\n",
       "dtype: float64"
      ]
     },
     "execution_count": 49,
     "metadata": {},
     "output_type": "execute_result"
    }
   ],
   "source": [
    "lm.pvalues"
   ]
  },
  {
   "cell_type": "code",
   "execution_count": 50,
   "metadata": {},
   "outputs": [
    {
     "data": {
      "text/plain": [
       "0.20339829083510508"
      ]
     },
     "execution_count": 50,
     "metadata": {},
     "output_type": "execute_result"
    }
   ],
   "source": [
    "lm.rsquared"
   ]
  },
  {
   "cell_type": "markdown",
   "metadata": {},
   "source": [
    "### T-test statistics for calculating Average Writing score"
   ]
  },
  {
   "cell_type": "code",
   "execution_count": 67,
   "metadata": {},
   "outputs": [
    {
     "data": {
      "text/plain": [
       "Ttest_relResult(statistic=6.9577401497571989, pvalue=0.0022424258812041289)"
      ]
     },
     "execution_count": 67,
     "metadata": {},
     "output_type": "execute_result"
    }
   ],
   "source": [
    "stats.ttest_rel(data_2010[\"Avg_Writing_Score_2010\"].head(),data_2012[\"Avg_Writing_Score_2012\"].head())"
   ]
  },
  {
   "cell_type": "markdown",
   "metadata": {},
   "source": [
    "### References"
   ]
  },
  {
   "cell_type": "markdown",
   "metadata": {},
   "source": [
    "https://plot.ly/python/t-test/\n",
    "https://docs.scipy.org/doc/scipy-0.15.1/reference/generated/scipy.stats.ttest_ind.html"
   ]
  },
  {
   "cell_type": "code",
   "execution_count": null,
   "metadata": {},
   "outputs": [],
   "source": []
  }
 ],
 "metadata": {
  "kernelspec": {
   "display_name": "Python 3",
   "language": "python",
   "name": "python3"
  },
  "language_info": {
   "codemirror_mode": {
    "name": "ipython",
    "version": 3
   },
   "file_extension": ".py",
   "mimetype": "text/x-python",
   "name": "python",
   "nbconvert_exporter": "python",
   "pygments_lexer": "ipython3",
   "version": "3.6.3"
  }
 },
 "nbformat": 4,
 "nbformat_minor": 2
}
