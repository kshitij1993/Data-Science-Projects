{
 "cells": [
  {
   "cell_type": "markdown",
   "metadata": {},
   "source": [
    "# Assignment 2"
   ]
  },
  {
   "cell_type": "markdown",
   "metadata": {},
   "source": [
    "## References\n",
    "\n",
    "** http://sthurlow.com/python/lesson08/--CLASSES **\n",
    "\n",
    "**https://www.programiz.com/python-programming/examples--PALINDROME**\n",
    "\n",
    "**http://anh.cs.luc.edu/python/hands-on/3.1/handsonHtml/ifstatements.html--IF-ELSE **\n",
    "\n",
    "**https://www.tutorialspoint.com/python/python_decision_making.htm--IF-ELSE**\n"
   ]
  },
  {
   "cell_type": "markdown",
   "metadata": {},
   "source": [
    "** Dictionary Examples **\n",
    "\n",
    "** Working : Here we have used various methods of dictionary.Also we have defined functions that help us to understand the exact working of dictionaries.We have made use of 'len()' function that helps calculate the length of a dictionary.Likewise we have declared few such functions which act on a dictionary and produce the desired output **"
   ]
  },
  {
   "cell_type": "code",
   "execution_count": 1,
   "metadata": {},
   "outputs": [
    {
     "name": "stdout",
     "output_type": "stream",
     "text": [
      "{'Name': 'Jon', 'Sex': 'M', 'Age': 23}\n",
      "Keys are : dict_keys(['Name', 'Sex', 'Age'])\n",
      "Values are : dict_values(['Jon', 'M', 23])\n",
      "Length of a dictionary: 3\n",
      "True\n",
      "True\n",
      "False\n",
      "117000\n",
      "121\n"
     ]
    }
   ],
   "source": [
    "dict1={'Name':'Jon','Sex':'M','Age':23}\n",
    "#built-in dictionary function 'print' helps to access the elements of dictionary\n",
    "print(dict1)\n",
    "\n",
    "#keys() helps us to display just the values of key in a dictionary\n",
    "print(\"Keys are :\",dict1.keys())\n",
    "\n",
    "#values() helps us to display just the values in a dictionary\n",
    "print(\"Values are :\",dict1.values())\n",
    "\n",
    "#function to determine the length of a dictionary\n",
    "def dictLen():\n",
    "    length=len(dict1)\n",
    "    print(\"Length of a dictionary:\",length)\n",
    "    \n",
    "dictLen()  \n",
    "\n",
    "#function to check whether the key exists in a given dictionary or not\n",
    "def checkElement():\n",
    "    #Output should be TRUE\n",
    "    print('Name' in dict1)\n",
    "    \n",
    "    #Output should be TRUE\n",
    "    print('Sex' in dict1)\n",
    "    \n",
    "    #Output should be FALSE because IN keywords just checks for key of a dictionary\n",
    "    print(23 in dict1)\n",
    "    \n",
    "checkElement()  \n",
    "\n",
    "#this function id used to get the overall product of all the values present in a dictionary\n",
    "def multiply():\n",
    "    dict2={1:10,2:20,3:13,4:45}\n",
    "    prod=1\n",
    "    \n",
    "    for i in dict2:\n",
    "        prod=prod*dict2[i]\n",
    "        \n",
    "    print(prod)\n",
    "    \n",
    "multiply() \n",
    "\n",
    "def summation():\n",
    "    dict3={1:11,2:22,3:33,4:55}\n",
    "    print(sum(dict3.values()))\n",
    "    \n",
    "summation()    \n",
    "        "
   ]
  },
  {
   "cell_type": "markdown",
   "metadata": {},
   "source": [
    "** self keyword **\n",
    "\n",
    "** Explanation : self keyword is used to initiate an instance of a class.\n",
    "self refers to the newly created object.With the use of self in Python classes we can eliminate the confusions arising when we try and access any particular property of any particular function.**"
   ]
  },
  {
   "cell_type": "code",
   "execution_count": 2,
   "metadata": {},
   "outputs": [
    {
     "name": "stdout",
     "output_type": "stream",
     "text": [
      "Toyota is a Black Sedan worth $10000.00.\n"
     ]
    }
   ],
   "source": [
    "class Vehicle:\n",
    "    name = \"\"\n",
    "    kind = \"car\"\n",
    "    color = \"\"\n",
    "    value = 0.0\n",
    "    \n",
    "#self keyword is used to initiate an instance of a class.\n",
    "#self refers to the newly created object\n",
    "\n",
    "#In below function '%s' takes an arguement of the respective positions of VehicleConfig\n",
    "\n",
    "    def VehicleConfig(self):\n",
    "        details = \"%s is a %s %s worth $%.2f.\" % (self.name, self.color, self.kind, self.value)\n",
    "        return details\n",
    "\n",
    "# details of Car A\n",
    "carA = Vehicle()\n",
    "carA.name = \"Toyota\"\n",
    "carA.color = \"Black\"\n",
    "carA.kind = \"Sedan\"\n",
    "carA.value = 10000.00\n",
    "\n",
    "\n",
    "\n",
    "# Execute the function\n",
    "print(carA.VehicleConfig())"
   ]
  },
  {
   "cell_type": "markdown",
   "metadata": {},
   "source": [
    "** Classes **\n",
    "\n",
    "** Class is a something which has properties and attributes of its owm.\n",
    "For example, Animal is a class.\n",
    "Dog,Cat and Tiger so on comprise of the broader category called Animals.\n",
    "Also,Animals in general have legs,limbs,eyes etc which states that even its sub member will have the same properties**"
   ]
  },
  {
   "cell_type": "code",
   "execution_count": 3,
   "metadata": {},
   "outputs": [
    {
     "name": "stdout",
     "output_type": "stream",
     "text": [
      "[10, 20, 30, 40]\n",
      "40\n",
      "10\n",
      "Enter a character to obtain its ASCII value : A\n",
      "ASCII value of 'A'is 65\n"
     ]
    }
   ],
   "source": [
    "#Class acts a blueprint for something to be done.\n",
    "#Classes help to organize the function in your code and let you work in a particular way\n",
    "\n",
    "class MyClass:\n",
    "    #Below defined functions are built-in functions of Python\n",
    "    #This function is used to access the values of list1\n",
    "    def printme():\n",
    "        list1=[10,20,30,40]\n",
    "        print (list1)\n",
    "        return \"\"\n",
    "    \n",
    "    #This function is used to retrieve the maximum value of list1\n",
    "    def maxFunc():\n",
    "        list1=[10,20,30,40]\n",
    "        print(max (list1))\n",
    "        return\"\"\n",
    "    \n",
    "    #This function is used to retrieve the minimum value of list1\n",
    "    def minFunc():\n",
    "        list1=[10,20,30,40]\n",
    "        print(min (list1))\n",
    "        return\"\"\n",
    "    \n",
    "    #This function is used to obtain the ASCII value of a character\n",
    "    def asciiVal():\n",
    "        str=input(\"Enter a character to obtain its ASCII value : \")\n",
    "        print(\"ASCII value of '\" + str + \"'is\",ord(str))\n",
    "    \n",
    "    \n",
    "            \n",
    "    printme() \n",
    "    maxFunc()\n",
    "    minFunc()\n",
    "    asciiVal()\n",
    "    "
   ]
  },
  {
   "cell_type": "code",
   "execution_count": 7,
   "metadata": {},
   "outputs": [
    {
     "name": "stdout",
     "output_type": "stream",
     "text": [
      "Please enter a string to check if its a PALINDROME : MADAM\n",
      "Reversed string is : MADAM\n",
      "It is a PALINDROME\n"
     ]
    }
   ],
   "source": [
    "def checkPalindrome():\n",
    "    str1=input(\"Please enter a string to check if its a PALINDROME : \")\n",
    "    str2=str1[::-1]\n",
    "    print(\"Reversed string is :\",str1[::-1])\n",
    "\n",
    "    if list(str1)==list(str2):\n",
    "        print(\"It is a PALINDROME\")\n",
    "    else:\n",
    "        print(\"It is not a PALINDROME\")\n",
    "    \n",
    "checkPalindrome()       \n",
    "            "
   ]
  },
  {
   "cell_type": "markdown",
   "metadata": {},
   "source": [
    "** University class that demonstrates the working of an Univeristy during Admission process **\n",
    "\n",
    "** Working : This class aims to take inputs from the end users.We have made use of 'input' keyword of Python for reading command line arguements.We have defined various functions for respective special tasks which an University performs during its Admission process. **"
   ]
  },
  {
   "cell_type": "code",
   "execution_count": 1,
   "metadata": {},
   "outputs": [
    {
     "name": "stdout",
     "output_type": "stream",
     "text": [
      "Please enter the Semester Type :Fall\n",
      "Please enter name of Applicant : Jon Snow\n",
      "Please enter course to enroll : IT\n",
      "Please enter Quantitative marks : 159\n",
      "Please enter Verbal marks : 143\n",
      "GRE total marks : 302\n",
      "Please Enter the Total GRE Score :302\n",
      "Congratulations !!!! You are Admitted\n",
      "Please select the term\n",
      "        1.Fall 2017\n",
      "        2.Spring 2017\n",
      "        \n",
      "Please Enter from above options :1\n",
      "Please Enter non-refundable deposit : 1500\n",
      "Your total tuition fees for Fall 2017 is : 21500\n"
     ]
    }
   ],
   "source": [
    "class University:\n",
    "    name=\"\"\n",
    "    kind=\"Public\"\n",
    "    location=\"global\"\n",
    "    fees=0.0\n",
    "    \n",
    "    def Semester():\n",
    "        type=input(\"Please enter the Semester Type :\") #making use of 'input' keyword for command line arguements\n",
    "        return \"\"\n",
    "    \n",
    "    def StudentDetails():\n",
    "        name=input(\"Please enter name of Applicant : \")\n",
    "        course=input(\"Please enter course to enroll : \")\n",
    "        return\n",
    "    \n",
    "#calling the functions defined above   \n",
    "\n",
    "    Semester()\n",
    "    StudentDetails()\n",
    "\n",
    "#below func is a user-defined function to compute sum of two sections    \n",
    "    \n",
    "    \n",
    "    def totalMarks(x,y):\n",
    "        total=x+y\n",
    "        return total\n",
    "    \n",
    "    subject_marks1=int(input(\"Please enter Quantitative marks : \"))\n",
    "    subject_marks2=int(input(\"Please enter Verbal marks : \"))\n",
    "    \n",
    "    print (\"GRE total marks :\",totalMarks(subject_marks1,subject_marks2))\n",
    "    \n",
    "    \n",
    "#function to make a decision based on provided inputs    \n",
    "    \n",
    "    \n",
    "    def decision():\n",
    "        marks=float(input(\"Please Enter the Total GRE Score :\"))\n",
    "        \n",
    "        if marks > 295:\n",
    "            print(\"Congratulations !!!! You are Admitted\")\n",
    "        else:\n",
    "            print(\"Reject\")\n",
    "        \n",
    "    decision()  \n",
    "    fees=0\n",
    "#function to calculate the fees for respective terms    \n",
    "    \n",
    "    def calcTuition():\n",
    "        print(\"\"\"Please select the term\n",
    "        1.Fall 2017\n",
    "        2.Spring 2017\n",
    "        \"\"\")\n",
    "        term=input(\"Please Enter from above options :\")\n",
    "        fees=int(input(\"Please Enter non-refundable deposit : \"))\n",
    "        \n",
    "        if (term=='1'):\n",
    "            fees=int(fees)+20000\n",
    "            print(\"Your total tuition fees for Fall 2017 is :\",fees)\n",
    "        else:\n",
    "            fees=int(fees)+30000\n",
    "            print(\"Your total tuition fees for Spring 2017 is :\",fees)\n",
    "     \n",
    "    calcTuition()\n",
    "    \n",
    "            \n",
    "        \n",
    "\n",
    "#end of class University"
   ]
  }
 ],
 "metadata": {
  "kernelspec": {
   "display_name": "Python 3",
   "language": "python",
   "name": "python3"
  },
  "language_info": {
   "codemirror_mode": {
    "name": "ipython",
    "version": 3
   },
   "file_extension": ".py",
   "mimetype": "text/x-python",
   "name": "python",
   "nbconvert_exporter": "python",
   "pygments_lexer": "ipython3",
   "version": "3.6.2"
  }
 },
 "nbformat": 4,
 "nbformat_minor": 2
}
