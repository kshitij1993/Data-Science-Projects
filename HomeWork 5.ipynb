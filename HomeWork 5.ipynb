{
 "cells": [
  {
   "cell_type": "markdown",
   "metadata": {},
   "source": [
    "# INTRODUCTION TO DATA SCIENCE"
   ]
  },
  {
   "cell_type": "markdown",
   "metadata": {},
   "source": [
    "## Assignment 5\n",
    "\n",
    "## Topic : Create 3 plots of Baseball data using Seaborn"
   ]
  },
  {
   "cell_type": "markdown",
   "metadata": {},
   "source": [
    "## Seaborn\n",
    "\n",
    "- Seaborn is a library used for making attractive and informative statistical graphics in Python\n",
    "\n",
    "- It is built on top of matplotlib"
   ]
  },
  {
   "cell_type": "markdown",
   "metadata": {},
   "source": [
    "**Some details about Seaborn Library:**\n",
    "\n",
    "** 1) Axis Grids **\n",
    "\n",
    "- FacetGrid() :\tUsed for plotting conditional relationships.\n",
    "- factorplot() :\tDraw a categorical plot onto a FacetGrid.\n",
    "    \n",
    "** 2) Categorical plots **\n",
    "\n",
    "- boxplot() : \tDraw a box plot to show distributions with respect to categories.\n",
    "- barplot()\t:   Show point estimates and confidence intervals as rectangular bars.\n",
    "\n",
    "** 3) Distribution plots**\n",
    "\n",
    "- kdeplot()\t: Fit and plot a univariate or bivariate kernel density estimate.\n",
    "- distplot(): Flexibly plot a univariate distribution of observations."
   ]
  },
  {
   "cell_type": "code",
   "execution_count": 201,
   "metadata": {},
   "outputs": [],
   "source": [
    "#importing necessary libraries \n",
    "\n",
    "%matplotlib inline\n",
    "\n",
    "import os          \n",
    "import numpy as np\n",
    "import pandas as pd\n",
    "import seaborn as sns\n",
    "import matplotlib.pyplot as plt\n",
    "\n",
    "sns.set(style=\"white\") # set the style for background as 'white' \n"
   ]
  },
  {
   "cell_type": "markdown",
   "metadata": {},
   "source": [
    "** In the below code block ,we have made use of 'ExcelFile' and 'read_excel' functions to read data from 'Games.xlsx'**"
   ]
  },
  {
   "cell_type": "code",
   "execution_count": 202,
   "metadata": {},
   "outputs": [
    {
     "name": "stdout",
     "output_type": "stream",
     "text": [
      "['Worksheet']\n"
     ]
    }
   ],
   "source": [
    "games=pd.ExcelFile(r\"C:\\Users\\kshit\\Documents\\Intro to Data Science\\Games.xlsx\")\n",
    "sheet=pd.read_excel(r\"C:\\Users\\kshit\\Documents\\Intro to Data Science\\Games.xlsx\",sheetname=0) # reads data from first sheet\n",
    "read_sheet_names=games.sheet_names\n",
    "print(read_sheet_names) # prints the name of first sheet "
   ]
  },
  {
   "cell_type": "code",
   "execution_count": 195,
   "metadata": {},
   "outputs": [
    {
     "data": {
      "text/html": [
       "<div>\n",
       "<style>\n",
       "    .dataframe thead tr:only-child th {\n",
       "        text-align: right;\n",
       "    }\n",
       "\n",
       "    .dataframe thead th {\n",
       "        text-align: left;\n",
       "    }\n",
       "\n",
       "    .dataframe tbody tr th {\n",
       "        vertical-align: top;\n",
       "    }\n",
       "</style>\n",
       "<table border=\"1\" class=\"dataframe\">\n",
       "  <thead>\n",
       "    <tr style=\"text-align: right;\">\n",
       "      <th></th>\n",
       "      <th>Gm#</th>\n",
       "      <th>Date</th>\n",
       "      <th>Unnamed: 2</th>\n",
       "      <th>Tm</th>\n",
       "      <th>Unnamed: 4</th>\n",
       "      <th>Opp</th>\n",
       "      <th>W/L</th>\n",
       "      <th>R</th>\n",
       "      <th>RA</th>\n",
       "      <th>Inn</th>\n",
       "      <th>W-L</th>\n",
       "      <th>Rank</th>\n",
       "      <th>GB</th>\n",
       "      <th>Win</th>\n",
       "      <th>Loss</th>\n",
       "      <th>Save</th>\n",
       "      <th>Time</th>\n",
       "      <th>D/N</th>\n",
       "      <th>Attendance</th>\n",
       "      <th>Streak</th>\n",
       "    </tr>\n",
       "  </thead>\n",
       "  <tbody>\n",
       "    <tr>\n",
       "      <th>0</th>\n",
       "      <td>1</td>\n",
       "      <td>Tuesday, Apr 5</td>\n",
       "      <td>boxscore</td>\n",
       "      <td>BOS</td>\n",
       "      <td>@</td>\n",
       "      <td>CLE</td>\n",
       "      <td>W</td>\n",
       "      <td>6</td>\n",
       "      <td>2</td>\n",
       "      <td>NaN</td>\n",
       "      <td>2000-01-01 00:00:00</td>\n",
       "      <td>1</td>\n",
       "      <td>Tied</td>\n",
       "      <td>Price</td>\n",
       "      <td>Kluber</td>\n",
       "      <td>NaN</td>\n",
       "      <td>03:13:00</td>\n",
       "      <td>D</td>\n",
       "      <td>34493</td>\n",
       "      <td>+</td>\n",
       "    </tr>\n",
       "    <tr>\n",
       "      <th>1</th>\n",
       "      <td>2</td>\n",
       "      <td>Wednesday, Apr 6</td>\n",
       "      <td>boxscore</td>\n",
       "      <td>BOS</td>\n",
       "      <td>@</td>\n",
       "      <td>CLE</td>\n",
       "      <td>L</td>\n",
       "      <td>6</td>\n",
       "      <td>7</td>\n",
       "      <td>NaN</td>\n",
       "      <td>2017-01-01 00:00:00</td>\n",
       "      <td>2</td>\n",
       "      <td>1</td>\n",
       "      <td>McAllister</td>\n",
       "      <td>Tazawa</td>\n",
       "      <td>Allen</td>\n",
       "      <td>03:29:00</td>\n",
       "      <td>N</td>\n",
       "      <td>10298</td>\n",
       "      <td>-</td>\n",
       "    </tr>\n",
       "    <tr>\n",
       "      <th>2</th>\n",
       "      <td>3</td>\n",
       "      <td>Friday, Apr 8</td>\n",
       "      <td>boxscore</td>\n",
       "      <td>BOS</td>\n",
       "      <td>@</td>\n",
       "      <td>TOR</td>\n",
       "      <td>W</td>\n",
       "      <td>8</td>\n",
       "      <td>7</td>\n",
       "      <td>NaN</td>\n",
       "      <td>2017-02-01 00:00:00</td>\n",
       "      <td>2</td>\n",
       "      <td>1.5</td>\n",
       "      <td>Barnes</td>\n",
       "      <td>Storen</td>\n",
       "      <td>Kimbrel</td>\n",
       "      <td>03:24:00</td>\n",
       "      <td>N</td>\n",
       "      <td>48871</td>\n",
       "      <td>+</td>\n",
       "    </tr>\n",
       "    <tr>\n",
       "      <th>3</th>\n",
       "      <td>4</td>\n",
       "      <td>Saturday, Apr 9</td>\n",
       "      <td>boxscore</td>\n",
       "      <td>BOS</td>\n",
       "      <td>@</td>\n",
       "      <td>TOR</td>\n",
       "      <td>W</td>\n",
       "      <td>8</td>\n",
       "      <td>4</td>\n",
       "      <td>NaN</td>\n",
       "      <td>2017-03-01 00:00:00</td>\n",
       "      <td>2</td>\n",
       "      <td>1</td>\n",
       "      <td>Porcello</td>\n",
       "      <td>Dickey</td>\n",
       "      <td>NaN</td>\n",
       "      <td>02:48:00</td>\n",
       "      <td>D</td>\n",
       "      <td>47138</td>\n",
       "      <td>++</td>\n",
       "    </tr>\n",
       "    <tr>\n",
       "      <th>4</th>\n",
       "      <td>5</td>\n",
       "      <td>Sunday, Apr 10</td>\n",
       "      <td>boxscore</td>\n",
       "      <td>BOS</td>\n",
       "      <td>@</td>\n",
       "      <td>TOR</td>\n",
       "      <td>L</td>\n",
       "      <td>0</td>\n",
       "      <td>3</td>\n",
       "      <td>NaN</td>\n",
       "      <td>2017-03-02 00:00:00</td>\n",
       "      <td>2</td>\n",
       "      <td>2</td>\n",
       "      <td>Estrada</td>\n",
       "      <td>Wright</td>\n",
       "      <td>Osuna</td>\n",
       "      <td>02:27:00</td>\n",
       "      <td>D</td>\n",
       "      <td>46158</td>\n",
       "      <td>-</td>\n",
       "    </tr>\n",
       "    <tr>\n",
       "      <th>...</th>\n",
       "      <td>...</td>\n",
       "      <td>...</td>\n",
       "      <td>...</td>\n",
       "      <td>...</td>\n",
       "      <td>...</td>\n",
       "      <td>...</td>\n",
       "      <td>...</td>\n",
       "      <td>...</td>\n",
       "      <td>...</td>\n",
       "      <td>...</td>\n",
       "      <td>...</td>\n",
       "      <td>...</td>\n",
       "      <td>...</td>\n",
       "      <td>...</td>\n",
       "      <td>...</td>\n",
       "      <td>...</td>\n",
       "      <td>...</td>\n",
       "      <td>...</td>\n",
       "      <td>...</td>\n",
       "      <td>...</td>\n",
       "    </tr>\n",
       "    <tr>\n",
       "      <th>157</th>\n",
       "      <td>158</td>\n",
       "      <td>Wednesday, Sep 28</td>\n",
       "      <td>boxscore</td>\n",
       "      <td>BOS</td>\n",
       "      <td>@</td>\n",
       "      <td>NYY</td>\n",
       "      <td>L-wo</td>\n",
       "      <td>3</td>\n",
       "      <td>5</td>\n",
       "      <td>NaN</td>\n",
       "      <td>92-66</td>\n",
       "      <td>1</td>\n",
       "      <td>up 5.0</td>\n",
       "      <td>Pazos</td>\n",
       "      <td>Kimbrel</td>\n",
       "      <td>NaN</td>\n",
       "      <td>03:28:00</td>\n",
       "      <td>N</td>\n",
       "      <td>35520</td>\n",
       "      <td>--</td>\n",
       "    </tr>\n",
       "    <tr>\n",
       "      <th>158</th>\n",
       "      <td>159</td>\n",
       "      <td>Thursday, Sep 29</td>\n",
       "      <td>boxscore</td>\n",
       "      <td>BOS</td>\n",
       "      <td>@</td>\n",
       "      <td>NYY</td>\n",
       "      <td>L</td>\n",
       "      <td>1</td>\n",
       "      <td>5</td>\n",
       "      <td>NaN</td>\n",
       "      <td>92-67</td>\n",
       "      <td>1</td>\n",
       "      <td>up 5.0</td>\n",
       "      <td>Sabathia</td>\n",
       "      <td>Owens</td>\n",
       "      <td>NaN</td>\n",
       "      <td>03:17:00</td>\n",
       "      <td>N</td>\n",
       "      <td>41597</td>\n",
       "      <td>---</td>\n",
       "    </tr>\n",
       "    <tr>\n",
       "      <th>159</th>\n",
       "      <td>160</td>\n",
       "      <td>Friday, Sep 30</td>\n",
       "      <td>boxscore</td>\n",
       "      <td>BOS</td>\n",
       "      <td>NaN</td>\n",
       "      <td>TOR</td>\n",
       "      <td>W</td>\n",
       "      <td>5</td>\n",
       "      <td>3</td>\n",
       "      <td>NaN</td>\n",
       "      <td>93-67</td>\n",
       "      <td>1</td>\n",
       "      <td>up 5.0</td>\n",
       "      <td>Ziegler</td>\n",
       "      <td>Biagini</td>\n",
       "      <td>Kimbrel</td>\n",
       "      <td>03:25:00</td>\n",
       "      <td>N</td>\n",
       "      <td>37661</td>\n",
       "      <td>+</td>\n",
       "    </tr>\n",
       "    <tr>\n",
       "      <th>160</th>\n",
       "      <td>161</td>\n",
       "      <td>Saturday, Oct 1</td>\n",
       "      <td>boxscore</td>\n",
       "      <td>BOS</td>\n",
       "      <td>NaN</td>\n",
       "      <td>TOR</td>\n",
       "      <td>L</td>\n",
       "      <td>3</td>\n",
       "      <td>4</td>\n",
       "      <td>NaN</td>\n",
       "      <td>93-68</td>\n",
       "      <td>1</td>\n",
       "      <td>up 5.0</td>\n",
       "      <td>Osuna</td>\n",
       "      <td>Kimbrel</td>\n",
       "      <td>NaN</td>\n",
       "      <td>03:29:00</td>\n",
       "      <td>N</td>\n",
       "      <td>37396</td>\n",
       "      <td>-</td>\n",
       "    </tr>\n",
       "    <tr>\n",
       "      <th>161</th>\n",
       "      <td>162</td>\n",
       "      <td>Sunday, Oct 2</td>\n",
       "      <td>boxscore</td>\n",
       "      <td>BOS</td>\n",
       "      <td>NaN</td>\n",
       "      <td>TOR</td>\n",
       "      <td>L</td>\n",
       "      <td>1</td>\n",
       "      <td>2</td>\n",
       "      <td>NaN</td>\n",
       "      <td>93-69</td>\n",
       "      <td>1</td>\n",
       "      <td>up 4.0</td>\n",
       "      <td>Sanchez</td>\n",
       "      <td>Ziegler</td>\n",
       "      <td>Osuna</td>\n",
       "      <td>03:14:00</td>\n",
       "      <td>D</td>\n",
       "      <td>36787</td>\n",
       "      <td>--</td>\n",
       "    </tr>\n",
       "  </tbody>\n",
       "</table>\n",
       "<p>162 rows × 20 columns</p>\n",
       "</div>"
      ],
      "text/plain": [
       "     Gm#               Date Unnamed: 2   Tm Unnamed: 4  Opp   W/L  R  RA  Inn  \\\n",
       "0      1     Tuesday, Apr 5   boxscore  BOS          @  CLE     W  6   2  NaN   \n",
       "1      2   Wednesday, Apr 6   boxscore  BOS          @  CLE     L  6   7  NaN   \n",
       "2      3      Friday, Apr 8   boxscore  BOS          @  TOR     W  8   7  NaN   \n",
       "3      4    Saturday, Apr 9   boxscore  BOS          @  TOR     W  8   4  NaN   \n",
       "4      5     Sunday, Apr 10   boxscore  BOS          @  TOR     L  0   3  NaN   \n",
       "..   ...                ...        ...  ...        ...  ...   ... ..  ..  ...   \n",
       "157  158  Wednesday, Sep 28   boxscore  BOS          @  NYY  L-wo  3   5  NaN   \n",
       "158  159   Thursday, Sep 29   boxscore  BOS          @  NYY     L  1   5  NaN   \n",
       "159  160     Friday, Sep 30   boxscore  BOS        NaN  TOR     W  5   3  NaN   \n",
       "160  161    Saturday, Oct 1   boxscore  BOS        NaN  TOR     L  3   4  NaN   \n",
       "161  162      Sunday, Oct 2   boxscore  BOS        NaN  TOR     L  1   2  NaN   \n",
       "\n",
       "                     W-L  Rank      GB         Win     Loss     Save  \\\n",
       "0    2000-01-01 00:00:00     1    Tied       Price   Kluber      NaN   \n",
       "1    2017-01-01 00:00:00     2       1  McAllister   Tazawa    Allen   \n",
       "2    2017-02-01 00:00:00     2     1.5      Barnes   Storen  Kimbrel   \n",
       "3    2017-03-01 00:00:00     2       1    Porcello   Dickey      NaN   \n",
       "4    2017-03-02 00:00:00     2       2     Estrada   Wright    Osuna   \n",
       "..                   ...   ...     ...         ...      ...      ...   \n",
       "157                92-66     1  up 5.0       Pazos  Kimbrel      NaN   \n",
       "158                92-67     1  up 5.0    Sabathia    Owens      NaN   \n",
       "159                93-67     1  up 5.0     Ziegler  Biagini  Kimbrel   \n",
       "160                93-68     1  up 5.0       Osuna  Kimbrel      NaN   \n",
       "161                93-69     1  up 4.0     Sanchez  Ziegler    Osuna   \n",
       "\n",
       "         Time D/N  Attendance Streak  \n",
       "0    03:13:00   D       34493      +  \n",
       "1    03:29:00   N       10298      -  \n",
       "2    03:24:00   N       48871      +  \n",
       "3    02:48:00   D       47138     ++  \n",
       "4    02:27:00   D       46158      -  \n",
       "..        ...  ..         ...    ...  \n",
       "157  03:28:00   N       35520     --  \n",
       "158  03:17:00   N       41597    ---  \n",
       "159  03:25:00   N       37661      +  \n",
       "160  03:29:00   N       37396      -  \n",
       "161  03:14:00   D       36787     --  \n",
       "\n",
       "[162 rows x 20 columns]"
      ]
     },
     "execution_count": 195,
     "metadata": {},
     "output_type": "execute_result"
    }
   ],
   "source": [
    "sheet # prints the data from file "
   ]
  },
  {
   "cell_type": "markdown",
   "metadata": {},
   "source": [
    "### 1) Factorplot()\n",
    "** Syntax: **\n",
    "\n",
    "**Factorplot(x,y,data=None,kind={point,bar,violin},size) **\n",
    "- x : Column to be displayed on x-axis\n",
    "- y : Column to be displayed on y-axis\n",
    "- data : Dataset from which we plot the graphs('sheet' in this case)\n",
    "- kind : kind specifies the type of graph to be displayed\n",
    "- size : defines the dimensions of graph\n",
    "\n",
    "** In the below code block we have plotted a factorplot of 'R' vs 'Gm#' of such cases where R is between 10 and 15 **"
   ]
  },
  {
   "cell_type": "code",
   "execution_count": 197,
   "metadata": {},
   "outputs": [
    {
     "data": {
      "image/png": "[encoded data removed]",
      "text/plain": [
       "<matplotlib.figure.Figure at 0x2285b6f6be0>"
      ]
     },
     "metadata": {},
     "output_type": "display_data"
    }
   ],
   "source": [
    "sns.factorplot(x='Gm#',y='R',data=sheet.query('10<R<15'),kind='bar',size=8,hue='R')\n",
    "sns.despine(left=True) # removes lines from left"
   ]
  },
  {
   "cell_type": "markdown",
   "metadata": {},
   "source": [
    "### 2) Regplot()\n",
    "\n",
    "** Syntax :**\n",
    "\n",
    "**Regplot(x,y,data=None) **\n",
    "- x : Column to be displayed on x-axis\n",
    "- y : Column to be displayed on y-axis\n",
    "- data : Dataset from which we plot the graphs('sheet' in this case) and sheet.query specifies the condition for which the graph is displayed\n",
    "\n",
    "\n",
    "** In the below code block we have plotted a regplot of 'Attendance' vs 'Gm#' of such cases where Attendance is greater than 35000**"
   ]
  },
  {
   "cell_type": "code",
   "execution_count": 192,
   "metadata": {},
   "outputs": [
    {
     "data": {
      "image/png": "[encoded data removed]",
      "text/plain": [
       "<matplotlib.figure.Figure at 0x2285d32a550>"
      ]
     },
     "metadata": {},
     "output_type": "display_data"
    }
   ],
   "source": [
    "g=sns.regplot(x='Gm#',y='Attendance',data=sheet.query('35000>Attendance'), scatter= True,label='Runs')\n",
    "plt.legend() # to display text within the plot\n",
    "sns.despine(left=True) #removes lines from left"
   ]
  },
  {
   "cell_type": "markdown",
   "metadata": {},
   "source": [
    "### 3) Boxplot()\n",
    "\n",
    "** Syntax : **\n",
    "\n",
    "** Boxplot(x,y,data=None) **\n",
    "- x : Column to be displayed on x-axis\n",
    "- y : Column to be displayed on y-axis\n",
    "- data : Dataset from which we plot the graphs('sheet' in this case)\n",
    "- palette : decides the color scheme of the plot\n",
    "\n",
    "** In the below block of code we have plotted a boxplot of 'W/L' and 'Gm#' which displays the number of Wins,Losses and other results such as W-wo(washout and Won) and L-wo(washout and Lost) **"
   ]
  },
  {
   "cell_type": "code",
   "execution_count": 200,
   "metadata": {},
   "outputs": [
    {
     "data": {
      "image/png": "[encoded data removed]",
      "text/plain": [
       "<matplotlib.figure.Figure at 0x2285cecd828>"
      ]
     },
     "metadata": {},
     "output_type": "display_data"
    }
   ],
   "source": [
    "ax=sns.boxplot(x='W/L',y='Gm#',data = sheet,palette='hls')\n",
    "sns.despine(left=True)"
   ]
  },
  {
   "cell_type": "markdown",
   "metadata": {},
   "source": [
    "**Below are few examples of Kernel density plot and distplot()**\n",
    "\n",
    "### 4) Kernel Density plot\n",
    "\n",
    "** Syntax : **\n",
    "\n",
    "** kdeplot(data,shade,color) **\n",
    "\n",
    "- data : Input dataframe\n",
    "- shade : It represents a boolean value which is used to decide whether a shade is required or not\n",
    "- color : It specifies the color of the graph"
   ]
  },
  {
   "cell_type": "code",
   "execution_count": 205,
   "metadata": {},
   "outputs": [
    {
     "data": {
      "image/png": "[encoded data removed]",
      "text/plain": [
       "<matplotlib.figure.Figure at 0x2285be3a630>"
      ]
     },
     "metadata": {},
     "output_type": "display_data"
    }
   ],
   "source": [
    "ax=sns.kdeplot(sheet.Attendance.dropna(),shade=True,color='g')"
   ]
  },
  {
   "cell_type": "markdown",
   "metadata": {},
   "source": [
    "### 5) Distplot()\n",
    "\n",
    "** Syntax : **\n",
    "\n",
    "**distplot(data) ** \n",
    "\n",
    "- data : DataFrame which is used a reference for plotting a distplot\n"
   ]
  },
  {
   "cell_type": "code",
   "execution_count": 149,
   "metadata": {},
   "outputs": [
    {
     "data": {
      "image/png": "[encoded data removed]",
      "text/plain": [
       "<matplotlib.figure.Figure at 0x22856958208>"
      ]
     },
     "metadata": {},
     "output_type": "display_data"
    }
   ],
   "source": [
    "ax=sns.distplot(sheet.head(10).R.dropna())"
   ]
  },
  {
   "cell_type": "markdown",
   "metadata": {},
   "source": [
    "### References \n",
    "\n",
    "https://seaborn.pydata.org/api.html\n",
    "\n",
    "https://docs.python.org/2/library/warnings.html\n",
    "\n",
    "https://www.youtube.com/watch?v=A2XyVNXx7y8&t=187s"
   ]
  }
 ],
 "metadata": {
  "kernelspec": {
   "display_name": "Python 3",
   "language": "python",
   "name": "python3"
  },
  "language_info": {
   "codemirror_mode": {
    "name": "ipython",
    "version": 3
   },
   "file_extension": ".py",
   "mimetype": "text/x-python",
   "name": "python",
   "nbconvert_exporter": "python",
   "pygments_lexer": "ipython3",
   "version": "3.6.2"
  }
 },
 "nbformat": 4,
 "nbformat_minor": 2
}
